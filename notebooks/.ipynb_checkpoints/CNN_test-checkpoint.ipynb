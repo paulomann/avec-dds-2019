{
 "cells": [
  {
   "cell_type": "code",
   "execution_count": 76,
   "metadata": {},
   "outputs": [
    {
     "name": "stdout",
     "output_type": "stream",
     "text": [
      "The autoreload extension is already loaded. To reload it, use:\n",
      "  %reload_ext autoreload\n"
     ]
    }
   ],
   "source": [
    "%load_ext autoreload\n",
    "%autoreload 2\n",
    "import numpy as np\n",
    "import torch\n",
    "import torch.nn as nn\n",
    "import torch.optim as optim\n",
    "from torch.utils.data import DataLoader\n",
    "\n",
    "from avec.data import OpenFaceDatasetCNN\n",
    "from avec.models import ConvNetwork"
   ]
  },
  {
   "cell_type": "code",
   "execution_count": 77,
   "metadata": {},
   "outputs": [],
   "source": [
    "model = ConvNetwork()\n",
    "\n",
    "criterion = nn.BCEWithLogitsLoss()\n",
    "parameters_for_training = filter(lambda p: p.requires_grad, model.parameters())\n",
    "optimizer_ft = optim.Adam(parameters_for_training, lr=0.001)\n",
    "\n",
    "lr_scheduler =  optim.lr_scheduler.StepLR(optimizer_ft, step_size=1, gamma=1.0) #TODO change gamma to take effect\n",
    "\n",
    "train_dataset = OpenFaceDatasetCNN(\"train\")\n",
    "train_loader = DataLoader(train_dataset, batch_size=32, shuffle=True)\n",
    "\n",
    "val_dataset = OpenFaceDatasetCNN(\"val\")\n",
    "val_loader = DataLoader(val_dataset, batch_size=32, shuffle=True)\n",
    "\n",
    "dataloaders = {\"train\": train_loader, \"val\": val_loader}\n",
    "dataset_sizes = {\"train\": len(train_dataset), \"val\": len(train_dataset)}\n"
   ]
  },
  {
   "cell_type": "code",
   "execution_count": 78,
   "metadata": {},
   "outputs": [],
   "source": []
  },
  {
   "cell_type": "code",
   "execution_count": null,
   "metadata": {},
   "outputs": [],
   "source": [
    "# DEPOIS DE TREINAR - SALVAR\n",
    "# torch.save(model.state_dict(), PATH)"
   ]
  }
 ],
 "metadata": {
  "kernelspec": {
   "display_name": "Python 3",
   "language": "python",
   "name": "python3"
  },
  "language_info": {
   "codemirror_mode": {
    "name": "ipython",
    "version": 3
   },
   "file_extension": ".py",
   "mimetype": "text/x-python",
   "name": "python",
   "nbconvert_exporter": "python",
   "pygments_lexer": "ipython3",
   "version": "3.7.3"
  }
 },
 "nbformat": 4,
 "nbformat_minor": 2
}
